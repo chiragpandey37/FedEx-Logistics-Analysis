{
  "nbformat": 4,
  "nbformat_minor": 0,
  "metadata": {
    "colab": {
      "private_outputs": true,
      "provenance": [],
      "collapsed_sections": [
        "vncDsAP0Gaoa",
        "FJNUwmbgGyua",
        "w6K7xa23Elo4",
        "yQaldy8SH6Dl",
        "PH-0ReGfmX4f",
        "mDgbUHAGgjLW",
        "O_i_v8NEhb9l",
        "HhfV-JJviCcP",
        "Y3lxredqlCYt",
        "3RnN4peoiCZX",
        "x71ZqKXriCWQ",
        "7hBIi_osiCS2",
        "JlHwYmJAmNHm",
        "35m5QtbWiB9F",
        "PoPl-ycgm1ru",
        "H0kj-8xxnORC",
        "nA9Y7ga8ng1Z",
        "PBTbrJXOngz2",
        "u3PMJOP6ngxN",
        "dauF4eBmngu3",
        "bKJF3rekwFvQ",
        "MSa1f5Uengrz",
        "GF8Ens_Soomf",
        "0wOQAZs5pc--",
        "K5QZ13OEpz2H",
        "lQ7QKXXCp7Bj",
        "448CDAPjqfQr",
        "KSlN3yHqYklG",
        "t6dVpIINYklI",
        "ijmpgYnKYklI",
        "-JiQyfWJYklI",
        "EM7whBJCYoAo",
        "fge-S5ZAYoAp",
        "85gYPyotYoAp",
        "RoGjAbkUYoAp",
        "4Of9eVA-YrdM",
        "iky9q4vBYrdO",
        "F6T5p64dYrdO",
        "y-Ehk30pYrdP",
        "bamQiAODYuh1",
        "QHF8YVU7Yuh3",
        "GwzvFGzlYuh3",
        "qYpmQ266Yuh3",
        "OH-pJp9IphqM",
        "bbFf2-_FphqN",
        "_ouA3fa0phqN",
        "Seke61FWphqN",
        "PIIx-8_IphqN",
        "t27r6nlMphqO",
        "r2jJGEOYphqO",
        "b0JNsNcRphqO",
        "BZR9WyysphqO",
        "jj7wYXLtphqO",
        "eZrbJ2SmphqO",
        "rFu4xreNphqO",
        "YJ55k-q6phqO",
        "gCFgpxoyphqP",
        "OVtJsKN_phqQ",
        "lssrdh5qphqQ",
        "U2RJ9gkRphqQ",
        "1M8mcRywphqQ",
        "tgIPom80phqQ",
        "JMzcOPDDphqR",
        "x-EpHcCOp1ci",
        "X_VqEhTip1ck",
        "8zGJKyg5p1ck",
        "PVzmfK_Ep1ck",
        "n3dbpmDWp1ck",
        "ylSl6qgtp1ck",
        "ZWILFDl5p1ck",
        "M7G43BXep1ck",
        "Ag9LCva-p1cl",
        "E6MkPsBcp1cl",
        "2cELzS2fp1cl",
        "3MPXvC8up1cl",
        "NC_X3p0fY2L0",
        "UV0SzAkaZNRQ",
        "YPEH6qLeZNRQ",
        "q29F0dvdveiT",
        "EXh0U9oCveiU",
        "22aHeOlLveiV",
        "JcMwzZxoAimU",
        "8G2x9gOozGDZ",
        "gCX9965dhzqZ",
        "gIfDvo9L0UH2"
      ],
      "include_colab_link": true
    },
    "kernelspec": {
      "name": "python3",
      "display_name": "Python 3"
    },
    "language_info": {
      "name": "python"
    }
  },
  "cells": [
    {
      "cell_type": "markdown",
      "metadata": {
        "id": "view-in-github",
        "colab_type": "text"
      },
      "source": [
        "<a href=\"https://colab.research.google.com/github/chiragpandey37/FedEx-Logistics-Analysis/blob/main/FedEx_Logistics.ipynb\" target=\"_parent\"><img src=\"https://colab.research.google.com/assets/colab-badge.svg\" alt=\"Open In Colab\"/></a>"
      ]
    },
    {
      "cell_type": "markdown",
      "source": [
        "# **Project Name**    - FedEx Logistics\n",
        "\n",
        "\n",
        "\n",
        "\n",
        "\n"
      ],
      "metadata": {
        "id": "vncDsAP0Gaoa"
      }
    },
    {
      "cell_type": "markdown",
      "source": [
        "##### **Project Type**    - EDA\n",
        "##### **Contribution**    - Individual"
      ],
      "metadata": {
        "id": "beRrZCGUAJYm"
      }
    },
    {
      "cell_type": "markdown",
      "source": [
        "# **Project Summary -**"
      ],
      "metadata": {
        "id": "FJNUwmbgGyua"
      }
    },
    {
      "cell_type": "markdown",
      "source": [
        "### Project Summary\n",
        "\n",
        "The Exploratory Data Analysis (EDA) of FedEx Logistics focuses on shipment and delivery patterns, aiming to optimize operations, reduce costs, and improve efficiency. The dataset includes information on shipment modes, delivery timelines, product details, costs, and vendor data. This analysis seeks to uncover trends that will enable FedEx to streamline its logistics processes, enhance cost management, and make data-driven decisions to improve its global operations.\n",
        "\n",
        "### Key Analysis\n",
        "\n",
        "1. **Shipment Distribution by Country**:\n",
        "   The analysis examined how shipments are distributed across different countries, identifying high-traffic regions where FedEx can potentially streamline operations, increase shipment frequency, or dedicate resources to reduce delays.\n",
        "   \n",
        "2. **Shipment Mode Usage**:\n",
        "   Air, sea, and road shipments were evaluated to understand the balance between speed and cost. The analysis provided insights into how each mode is used for different types of shipments, such as prioritizing air for urgent deliveries and road/sea for less time-sensitive items.\n",
        "\n",
        "3. **Freight Cost vs. Shipment Weight**:\n",
        "   A key focus was understanding how shipment weight correlates with freight costs. Identifying these patterns allows for better cost management and optimization of pricing models, leading to fairer and more accurate customer charges.\n",
        "\n",
        "4. **Vendor and Product Analysis**:\n",
        "   The performance of vendors and the impact of different product types on shipment volumes and costs were analyzed. This helped pinpoint key vendor partnerships and opportunities to improve relationships or negotiate better terms with suppliers who contribute more to overall shipping costs.\n",
        "\n",
        "### Findings and Recommendations\n",
        "\n",
        "1. **Optimize High-Traffic Routes**:\n",
        "   Countries with the highest shipment volumes should be prioritized for route optimization. FedEx can introduce more efficient delivery lanes or consolidate shipments to reduce costs and improve delivery speeds.\n",
        "\n",
        "2. **Leverage Mixed Shipment Modes**:\n",
        "   To balance speed and cost, FedEx can implement a hybrid strategy. Prioritize air freight for critical deliveries but increase the use of sea and road transport for bulk shipments that are less time-sensitive, ensuring optimal resource usage and cost control.\n",
        "\n",
        "3. **Adjust Pricing Based on Weight Patterns**:\n",
        "   Strong correlations between shipment weight and freight costs suggest an opportunity to refine FedEx’s pricing models. Introducing more precise weight thresholds will allow for a more transparent and competitive pricing strategy, benefiting both the company and its customers.\n",
        "\n",
        "4. **Strengthen Vendor Relationships**:\n",
        "   FedEx should focus on building stronger partnerships with vendors contributing to high shipment volumes. For vendors with high costs, exploring process improvements or renegotiating contract terms could lead to cost savings.\n",
        "\n",
        "By implementing these recommendations, FedEx can improve efficiency, reduce costs, and enhance customer satisfaction, ultimately leading to stronger global logistics operations."
      ],
      "metadata": {
        "id": "F6v_1wHtG2nS"
      }
    },
    {
      "cell_type": "markdown",
      "source": [
        "# **GitHub Link -**"
      ],
      "metadata": {
        "id": "w6K7xa23Elo4"
      }
    },
    {
      "cell_type": "markdown",
      "source": [
        "Provide your GitHub Link here."
      ],
      "metadata": {
        "id": "h1o69JH3Eqqn"
      }
    },
    {
      "cell_type": "markdown",
      "source": [
        "# **Problem Statement**\n"
      ],
      "metadata": {
        "id": "yQaldy8SH6Dl"
      }
    },
    {
      "cell_type": "markdown",
      "source": [
        "### Problem Statement\n",
        "\n",
        "FedEx Logistics faces challenges in optimizing its global supply chain operations, specifically in balancing shipment costs, delivery speed, and operational efficiency. With a vast network of shipments across various countries and a range of products transported through different modes (air, sea, and road), FedEx must identify key areas of inefficiency, such as high freight costs, suboptimal delivery routes, and inconsistent vendor performance.\n",
        "\n",
        "The objective of this Exploratory Data Analysis (EDA) is to uncover insights from shipment and delivery data that will help FedEx address these challenges. By analyzing shipment patterns, costs, and vendor impacts, the goal is to develop actionable recommendations that FedEx can implement to streamline its logistics, optimize costs, and improve customer satisfaction."
      ],
      "metadata": {
        "id": "DpeJGUA3kjGy"
      }
    },
    {
      "cell_type": "markdown",
      "source": [
        "#### **Define Your Business Objective?**"
      ],
      "metadata": {
        "id": "PH-0ReGfmX4f"
      }
    },
    {
      "cell_type": "markdown",
      "source": [
        "The business objective of this project is to **optimize FedEx Logistics operations** by leveraging data analysis to gain insights into their supply chain processes. Specifically, the project aims to:\n",
        "\n",
        "1. **Streamline supply chain operations:** Identify bottlenecks and inefficiencies to improve workflows and ensure timely delivery.\n",
        "2. **Minimize freight costs:** Analyze shipment data to identify opportunities for cost reduction through optimized routing, carrier selection, and negotiation of favorable shipping rates.\n",
        "3. **Improve customer satisfaction:** Gain a deeper understanding of customer requirements and expectations to enhance service quality and address issues proactively.\n",
        "\n",
        "By achieving these objectives, FedEx Logistics can improve its overall efficiency, reduce costs, and enhance customer satisfaction in its global supply chain operations.\n"
      ],
      "metadata": {
        "id": "PhDvGCAqmjP1"
      }
    },
    {
      "cell_type": "markdown",
      "source": [
        "# **General Guidelines** : -  "
      ],
      "metadata": {
        "id": "mDgbUHAGgjLW"
      }
    },
    {
      "cell_type": "markdown",
      "source": [
        "1.   Well-structured, formatted, and commented code is required.\n",
        "2.   Exception Handling, Production Grade Code & Deployment Ready Code will be a plus. Those students will be awarded some additional credits.\n",
        "     \n",
        "     The additional credits will have advantages over other students during Star Student selection.\n",
        "       \n",
        "             [ Note: - Deployment Ready Code is defined as, the whole .ipynb notebook should be executable in one go\n",
        "                       without a single error logged. ]\n",
        "\n",
        "3.   Each and every logic should have proper comments.\n",
        "4. You may add as many number of charts you want. Make Sure for each and every chart the following format should be answered.\n",
        "        \n",
        "\n",
        "```\n",
        "# Chart visualization code\n",
        "```\n",
        "            \n",
        "\n",
        "*   Why did you pick the specific chart?\n",
        "*   What is/are the insight(s) found from the chart?\n",
        "* Will the gained insights help creating a positive business impact?\n",
        "Are there any insights that lead to negative growth? Justify with specific reason.\n",
        "\n",
        "5. You have to create at least 20 logical & meaningful charts having important insights.\n",
        "\n",
        "\n",
        "[ Hints : - Do the Vizualization in  a structured way while following \"UBM\" Rule.\n",
        "\n",
        "U - Univariate Analysis,\n",
        "\n",
        "B - Bivariate Analysis (Numerical - Categorical, Numerical - Numerical, Categorical - Categorical)\n",
        "\n",
        "M - Multivariate Analysis\n",
        " ]\n",
        "\n",
        "\n",
        "\n"
      ],
      "metadata": {
        "id": "ZrxVaUj-hHfC"
      }
    },
    {
      "cell_type": "markdown",
      "source": [
        "# ***Let's Begin !***"
      ],
      "metadata": {
        "id": "O_i_v8NEhb9l"
      }
    },
    {
      "cell_type": "markdown",
      "source": [
        "## ***1. Know Your Data***"
      ],
      "metadata": {
        "id": "HhfV-JJviCcP"
      }
    },
    {
      "cell_type": "markdown",
      "source": [
        "### Import Libraries"
      ],
      "metadata": {
        "id": "Y3lxredqlCYt"
      }
    },
    {
      "cell_type": "code",
      "source": [
        "# Import Libraries\n",
        "import pandas as pd\n",
        "import numpy as np\n",
        "import matplotlib.pyplot as plt\n",
        "import seaborn as sns"
      ],
      "metadata": {
        "id": "M8Vqi-pPk-HR"
      },
      "execution_count": null,
      "outputs": []
    },
    {
      "cell_type": "markdown",
      "source": [
        "### Dataset Loading"
      ],
      "metadata": {
        "id": "3RnN4peoiCZX"
      }
    },
    {
      "cell_type": "code",
      "source": [
        "# Load Dataset\n",
        "from google.colab import files\n",
        "upload=files.upload()"
      ],
      "metadata": {
        "id": "4CkvbW_SlZ_R"
      },
      "execution_count": null,
      "outputs": []
    },
    {
      "cell_type": "markdown",
      "source": [
        "### Dataset First View"
      ],
      "metadata": {
        "id": "x71ZqKXriCWQ"
      }
    },
    {
      "cell_type": "code",
      "source": [
        "# Dataset First Look\n",
        "df= pd.read_csv('/content/SCMS_Delivery_History_Dataset.csv')\n",
        "df"
      ],
      "metadata": {
        "id": "LWNFOSvLl09H"
      },
      "execution_count": null,
      "outputs": []
    },
    {
      "cell_type": "markdown",
      "source": [
        "### Dataset Rows & Columns count"
      ],
      "metadata": {
        "id": "7hBIi_osiCS2"
      }
    },
    {
      "cell_type": "code",
      "source": [
        "# Dataset Rows & Columns count\n",
        "df.shape"
      ],
      "metadata": {
        "id": "Kllu7SJgmLij"
      },
      "execution_count": null,
      "outputs": []
    },
    {
      "cell_type": "markdown",
      "source": [
        "### Dataset Information"
      ],
      "metadata": {
        "id": "JlHwYmJAmNHm"
      }
    },
    {
      "cell_type": "code",
      "source": [
        "# Dataset Info\n",
        "df.info()"
      ],
      "metadata": {
        "id": "e9hRXRi6meOf"
      },
      "execution_count": null,
      "outputs": []
    },
    {
      "cell_type": "markdown",
      "source": [
        "#### Duplicate Values"
      ],
      "metadata": {
        "id": "35m5QtbWiB9F"
      }
    },
    {
      "cell_type": "code",
      "source": [
        "# Dataset Duplicate Value Count\n",
        "df.duplicated().sum()"
      ],
      "metadata": {
        "id": "1sLdpKYkmox0"
      },
      "execution_count": null,
      "outputs": []
    },
    {
      "cell_type": "markdown",
      "source": [
        "#### Missing Values/Null Values"
      ],
      "metadata": {
        "id": "PoPl-ycgm1ru"
      }
    },
    {
      "cell_type": "code",
      "source": [
        "# Missing Values/Null Values Count\n",
        "df.isnull().sum()"
      ],
      "metadata": {
        "id": "GgHWkxvamxVg"
      },
      "execution_count": null,
      "outputs": []
    },
    {
      "cell_type": "code",
      "source": [
        "# Visualizing the missing values\n",
        "plt.figure(figsize=(10,5))\n",
        "sns.barplot(df.isnull())\n",
        "#rotate x title in 90 degree\n",
        "plt.xticks(rotation=90)\n",
        "plt.title('missing values')\n",
        "plt.show()"
      ],
      "metadata": {
        "id": "3q5wnI3om9sJ"
      },
      "execution_count": null,
      "outputs": []
    },
    {
      "cell_type": "markdown",
      "source": [
        "### What did you know about your dataset?"
      ],
      "metadata": {
        "id": "H0kj-8xxnORC"
      }
    },
    {
      "cell_type": "markdown",
      "source": [
        "- The dataset contains information about FedEx's delivery history. It has 10,000 rows and 33 columns. Some of the important columns include:\n",
        "\n",
        " - Shipment Mode\n",
        " - Delivery Timelines\n",
        " - Product Details\n",
        " - Costs\n",
        " - Vendor Data\n",
        "\n",
        "- There are some missing values in the dataset, notably in the Dosage, Line Item Insurance (USD) and Shipment Mode columns.\n",
        "\n",
        "- The dataset contains information on various aspects of FedEx's logistics operations, such as shipment details, product information, delivery timelines, and associated costs. This dataset can be used to analyze trends and patterns in FedEx's delivery operations, identify areas for improvement, and optimize logistics strategies.\n",
        "\n",
        "- The columns are of different data types including object,datetime, integer and float."
      ],
      "metadata": {
        "id": "gfoNAAC-nUe_"
      }
    },
    {
      "cell_type": "markdown",
      "source": [
        "## ***2. Understanding Your Variables***"
      ],
      "metadata": {
        "id": "nA9Y7ga8ng1Z"
      }
    },
    {
      "cell_type": "code",
      "source": [
        "# Dataset Columns\n",
        "data=pd.DataFrame(df.columns)\n",
        "data"
      ],
      "metadata": {
        "id": "j7xfkqrt5Ag5"
      },
      "execution_count": null,
      "outputs": []
    },
    {
      "cell_type": "code",
      "source": [
        "# Dataset Describe\n",
        "\n",
        "df.describe()"
      ],
      "metadata": {
        "id": "DnOaZdaE5Q5t"
      },
      "execution_count": null,
      "outputs": []
    },
    {
      "cell_type": "markdown",
      "source": [
        "### Variables Description"
      ],
      "metadata": {
        "id": "PBTbrJXOngz2"
      }
    },
    {
      "cell_type": "markdown",
      "source": [
        "The dataset has variables related to shipment details, product information, delivery timelines, and costs.\n",
        "\n",
        "Some key variables include:\n",
        "\n",
        " - ID: Unique identifier for each shipment.\n",
        "\n",
        " - Project Code: Code assigned to the project.\n",
        "\n",
        " - PQ #: Purchase quotation number.\n",
        "\n",
        " - PO / SO #: Purchase order or sales order number.\n",
        "\n",
        " - ASN/DN #: Advanced shipping notice or delivery note number.\n",
        "\n",
        " - Country: Destination country for the shipment.\n",
        "\n",
        " - Managed By: Entity managing the shipment (e.g., PMO - US).\n",
        "\n",
        " - Fulfill Via: Method of fulfillment (e.g., Direct Drop).\n",
        "\n",
        " - Vendor INCO Term: International commercial terms defining the responsibilities of the buyer and seller.\n",
        "\n",
        " - Shipment Mode: Mode of transportation (e.g., Air, Road).\n",
        "\n",
        " - PQ First Sent to Client Date: Date when the purchase quotation was first sent to the client.\n",
        "\n",
        " - PO Sent to Vendor Date: Date when the purchase order was sent to the vendor.\n",
        "\n",
        " - Scheduled Delivery Date: Planned delivery date.\n",
        "\n",
        " - Delivered to Client Date: Actual delivery date.\n",
        "\n",
        " - Delivery Recorded Date: Date of delivery recording.\n",
        "\n",
        " - Product Group: Category of the product (e.g., ARV).\n",
        "\n",
        " - Sub Classification: More specific product category.\n",
        "\n",
        " - Vendor: Supplier of the product.\n",
        "\n",
        " - Item Description: Detailed description of the item.\n",
        "\n",
        " - Molecule/Test Type: Type of molecule or test (if applicable).\n",
        "\n",
        " - Brand: Brand name of the product.\n",
        "\n",
        " - Dosage: Drug dosage (if applicable).\n",
        "\n",
        " - Dosage Form: Form of the drug (e.g., Tablet).\n",
        "\n",
        " - Unit of Measure (Per Pack): Unit of measurement for the product.\n",
        "\n",
        " - Line Item Quantity: Quantity of items in the shipment.\n",
        "\n",
        " - Line Item Value: Total value of the line item.\n",
        "\n",
        " - Pack Price: Price per pack.\n",
        "\n",
        " - Unit Price: Price per unit.\n",
        "\n",
        " - Manufacturing Site: Location of product manufacturing.\n",
        "\n",
        " - First Line Designation: Designation of the product (e.g., Yes/No).\n",
        "\n",
        " - Weight (Kilograms): Weight of the shipment.\n",
        "\n",
        " - Freight Cost (USD): Cost of shipping.\n",
        "\n",
        " - Line Item Insurance (USD): Insurance cost for the line item."
      ],
      "metadata": {
        "id": "aJV4KIxSnxay"
      }
    },
    {
      "cell_type": "markdown",
      "source": [
        "### Check Unique Values for each variable."
      ],
      "metadata": {
        "id": "u3PMJOP6ngxN"
      }
    },
    {
      "cell_type": "code",
      "source": [
        "df.columns"
      ],
      "metadata": {
        "id": "CCWIpoUmR9jj"
      },
      "execution_count": null,
      "outputs": []
    },
    {
      "cell_type": "code",
      "source": [
        "# Check Unique Values for each variable.\n",
        "df.nunique()"
      ],
      "metadata": {
        "id": "zms12Yq5n-jE"
      },
      "execution_count": null,
      "outputs": []
    },
    {
      "cell_type": "code",
      "source": [
        "#unique values in every column\n",
        "columns_to_check = ['ID', 'Project Code', 'PQ #', 'PO / SO #', 'ASN/DN #', 'Country',\n",
        "       'Managed By', 'Fulfill Via', 'Vendor INCO Term', 'Shipment Mode',\n",
        "       'PQ First Sent to Client Date', 'PO Sent to Vendor Date',\n",
        "       'Scheduled Delivery Date', 'Delivered to Client Date',\n",
        "       'Delivery Recorded Date', 'Product Group', 'Sub Classification',\n",
        "       'Vendor', 'Item Description', 'Molecule/Test Type', 'Brand', 'Dosage',\n",
        "       'Dosage Form', 'Unit of Measure (Per Pack)', 'Line Item Quantity',\n",
        "       'Line Item Value', 'Pack Price', 'Unit Price', 'Manufacturing Site',\n",
        "       'First Line Designation', 'Weight (Kilograms)', 'Freight Cost (USD)',\n",
        "       'Line Item Insurance (USD)']  # List of columns to analyze\n",
        "unique_values = df[columns_to_check].apply(lambda x: x.unique()).to_dict()\n",
        "unique_values"
      ],
      "metadata": {
        "id": "3uouKOXIRuIu"
      },
      "execution_count": null,
      "outputs": []
    },
    {
      "cell_type": "markdown",
      "source": [
        "## 3. ***Data Wrangling***"
      ],
      "metadata": {
        "id": "dauF4eBmngu3"
      }
    },
    {
      "cell_type": "markdown",
      "source": [
        "### Data Wrangling Code"
      ],
      "metadata": {
        "id": "bKJF3rekwFvQ"
      }
    },
    {
      "cell_type": "markdown",
      "source": [
        "Removing null values"
      ],
      "metadata": {
        "id": "ue7kplvdfM_Z"
      }
    },
    {
      "cell_type": "code",
      "source": [
        "#correct datatype\n",
        "df['PQ First Sent to Client Date']=pd.to_datetime(df['PQ First Sent to Client Date'], errors='coerce')\n",
        "df['PO Sent to Vendor Date']=pd.to_datetime(df['PO Sent to Vendor Date'], errors='coerce')\n",
        "df['Scheduled Delivery Date']=pd.to_datetime(df['Scheduled Delivery Date'], errors='coerce')\n",
        "df['Delivered to Client Date']=pd.to_datetime(df['Delivered to Client Date'], errors='coerce')\n",
        "df['Delivery Recorded Date']=pd.to_datetime(df['Delivery Recorded Date'], errors='coerce')\n",
        "df['Line Item Insurance (USD)']=pd.to_numeric(df['Line Item Insurance (USD)'])"
      ],
      "metadata": {
        "id": "0K22sxrYjLfT"
      },
      "execution_count": null,
      "outputs": []
    },
    {
      "cell_type": "code",
      "source": [
        "df.info()"
      ],
      "metadata": {
        "id": "JGABKcwbjOEf"
      },
      "execution_count": null,
      "outputs": []
    },
    {
      "cell_type": "code",
      "source": [
        "# Write your code to make your dataset analysis ready.\n",
        "df.isnull().sum()"
      ],
      "metadata": {
        "id": "wk-9a2fpoLcV"
      },
      "execution_count": null,
      "outputs": []
    },
    {
      "cell_type": "code",
      "source": [
        "#check how much percentage of null values in columns\n",
        "df.isnull().sum()/len(df)*100"
      ],
      "metadata": {
        "id": "9Uxr4WIbmF7v"
      },
      "execution_count": null,
      "outputs": []
    },
    {
      "cell_type": "code",
      "source": [
        "#delete column PO Sent to Vendor Date\n",
        "df.drop(columns=['PO Sent to Vendor Date'],inplace=True)"
      ],
      "metadata": {
        "id": "tynOkXBIk262"
      },
      "execution_count": null,
      "outputs": []
    },
    {
      "cell_type": "code",
      "source": [
        "#fill missing value of PQ First Sent to Client Date\n",
        "df['PQ First Sent to Client Date'].fillna(df['PQ First Sent to Client Date'].mode()[0],inplace=True)"
      ],
      "metadata": {
        "id": "7ZxKB0nJlHH2"
      },
      "execution_count": null,
      "outputs": []
    },
    {
      "cell_type": "code",
      "source": [
        "#missing value is less than 5% in Line Item Insurace and Shipment mode so we have delete  that rows\n",
        "\n",
        "df.dropna(subset=['Line Item Insurance (USD)','Shipment Mode'],inplace=True)"
      ],
      "metadata": {
        "id": "MOuT2ujgmsYX"
      },
      "execution_count": null,
      "outputs": []
    },
    {
      "cell_type": "code",
      "source": [
        "df['Shipment Mode'].dropna(inplace=True)"
      ],
      "metadata": {
        "id": "jP9b_sX7SipF"
      },
      "execution_count": null,
      "outputs": []
    },
    {
      "cell_type": "code",
      "source": [
        "df.isnull().sum()"
      ],
      "metadata": {
        "id": "o_31y4bTnUn0"
      },
      "execution_count": null,
      "outputs": []
    },
    {
      "cell_type": "code",
      "source": [
        "df.info()"
      ],
      "metadata": {
        "id": "M4z0HoOoR81y"
      },
      "execution_count": null,
      "outputs": []
    },
    {
      "cell_type": "code",
      "source": [
        "# data type of dosage\n",
        "df['Dosage'].dtypes"
      ],
      "metadata": {
        "id": "p_14bpceoXmh"
      },
      "execution_count": null,
      "outputs": []
    },
    {
      "cell_type": "code",
      "source": [
        "df['Dosage'].mode()"
      ],
      "metadata": {
        "id": "l31ZYGVxogKS"
      },
      "execution_count": null,
      "outputs": []
    },
    {
      "cell_type": "code",
      "source": [
        "#fill the missing value in dosage\n",
        "df['Dosage'].fillna(df['Dosage'].mode()[0],inplace=True)"
      ],
      "metadata": {
        "id": "_X9Fax-XflrG"
      },
      "execution_count": null,
      "outputs": []
    },
    {
      "cell_type": "code",
      "source": [
        "#drop columns\n",
        "df=df.drop(columns=['Project Code','PQ #','PO / SO #', 'ASN/DN #','Vendor INCO Term','PQ First Sent to Client Date','First Line Designation'])"
      ],
      "metadata": {
        "id": "Kp2-jj5DhJGI"
      },
      "execution_count": null,
      "outputs": []
    },
    {
      "cell_type": "code",
      "source": [
        "df"
      ],
      "metadata": {
        "id": "MuX_lJXMkzrn"
      },
      "execution_count": null,
      "outputs": []
    },
    {
      "cell_type": "code",
      "source": [
        "#outliers of every column\n",
        "def calculate_outliers(df, columns):\n",
        "    outliers = {}\n",
        "\n",
        "    for col in columns:\n",
        "        # Convert to numeric, forcing errors to NaN (ignores non-numeric data)\n",
        "        df[col] = pd.to_numeric(df[col], errors='coerce')\n",
        "\n",
        "        # Drop rows where the column has NaN values to avoid issues\n",
        "        df_clean = df.dropna(subset=[col])\n",
        "\n",
        "        Q1 = df_clean[col].quantile(0.25)  # First quartile (25%)\n",
        "        Q3 = df_clean[col].quantile(0.75)  # Third quartile (75%)\n",
        "        IQR = Q3 - Q1  # Interquartile range\n",
        "\n",
        "        # Define lower and upper bounds\n",
        "        lower_bound = Q1 - 1.5 * IQR\n",
        "        upper_bound = Q3 + 1.5 * IQR\n",
        "\n",
        "        # Find outliers\n",
        "        lower_outliers = df_clean[df_clean[col] < lower_bound][col]\n",
        "        upper_outliers = df_clean[df_clean[col] > upper_bound][col]\n",
        "\n",
        "        # Store the results in a dictionary\n",
        "        outliers[col] = {\n",
        "            'lower_bound': lower_bound,\n",
        "            'upper_bound': upper_bound,\n",
        "            'lower_outliers': lower_outliers,\n",
        "            'upper_outliers': upper_outliers\n",
        "        }\n",
        "\n",
        "    return outliers\n",
        "\n",
        "# List of numeric columns\n",
        "numeric_columns = ['Unit of Measure (Per Pack)', 'Line Item Quantity',\n",
        "                   'Line Item Value', 'Pack Price', 'Unit Price',\n",
        "                   'Weight (Kilograms)', 'Freight Cost (USD)',\n",
        "                   'Line Item Insurance (USD)']\n",
        "\n",
        "# Get the outliers for all numeric columns\n",
        "outliers = calculate_outliers(df, numeric_columns)\n",
        "\n",
        "# Display outlier summary\n",
        "for col, data in outliers.items():\n",
        "    print(f\"Column: {col}\")\n",
        "    print(f\"  Lower bound: {abs(data['lower_bound'])}\")\n",
        "    print(f\"  Upper bound: {data['upper_bound']}\")\n",
        "\n"
      ],
      "metadata": {
        "id": "71nI6JDnDHwz"
      },
      "execution_count": null,
      "outputs": []
    },
    {
      "cell_type": "code",
      "source": [
        "# shipment mode in which country\n",
        "ship=pd.DataFrame(df.groupby('Shipment Mode')['Country'].unique().apply(list))\n",
        "ship\n",
        "df.groupby('Shipment Mode')['Country'].nunique().sort_values(ascending=False)\n"
      ],
      "metadata": {
        "id": "Do77O3kho6H8"
      },
      "execution_count": null,
      "outputs": []
    },
    {
      "cell_type": "code",
      "source": [
        "#which country have which manufaturing site\n",
        "man=pd.DataFrame(df.groupby('Country')['Manufacturing Site'].unique().apply(list))\n",
        "man\n"
      ],
      "metadata": {
        "id": "2ZjrRnI1qi2r"
      },
      "execution_count": null,
      "outputs": []
    },
    {
      "cell_type": "code",
      "source": [
        "#find which which country have how many sites\n",
        "df.groupby('Manufacturing Site')['Country'].nunique().sort_values(ascending=False)"
      ],
      "metadata": {
        "id": "qC8Cx4mv_7Vg"
      },
      "execution_count": null,
      "outputs": []
    },
    {
      "cell_type": "code",
      "source": [
        "#which country have most and least order\n",
        "df.groupby('Country')['ID'].count().sort_values(ascending=False)\n",
        "#"
      ],
      "metadata": {
        "id": "KCkJfNeJr1EP"
      },
      "execution_count": null,
      "outputs": []
    },
    {
      "cell_type": "code",
      "source": [
        "#make column of difference between scheduled dilevery date and actual dielevery date\n",
        "df['Scheduled Delivery Date']=pd.to_datetime(df['Scheduled Delivery Date'])\n",
        "df['Delivered to Client Date']=pd.to_datetime(df['Delivered to Client Date'])\n",
        "df['Delivery Time']=df['Scheduled Delivery Date']-df['Delivered to Client Date']\n",
        "df['Delivery Time'].sort_values(ascending=False)\n",
        "# add column in dataframe\n",
        "df['Delivery Time']=df['Delivery Time'].dt.days"
      ],
      "metadata": {
        "id": "QZ_ZMvINsNJO"
      },
      "execution_count": null,
      "outputs": []
    },
    {
      "cell_type": "code",
      "source": [
        "df"
      ],
      "metadata": {
        "id": "P8VLvdr_tu0R"
      },
      "execution_count": null,
      "outputs": []
    },
    {
      "cell_type": "markdown",
      "source": [
        "### What all manipulations have you done and insights you found?"
      ],
      "metadata": {
        "id": "MSa1f5Uengrz"
      }
    },
    {
      "cell_type": "markdown",
      "source": [
        "### Data Manipulations Performed:\n",
        "\n",
        "1. **Data Type Conversion:**\n",
        "   - Several columns containing dates were converted from the `object` type to the `datetime` type. This ensures that date-related operations and calculations can be performed accurately.\n",
        "\n",
        "2. **Handling Missing Values:**\n",
        "   - The **PO Sent to Vendor Date** column was removed due to a high percentage of missing values.\n",
        "   - Rows with missing values in the **Line Item Insurance (USD)** and **Shipment Mode** columns were removed, as they represented a small percentage of the data.\n",
        "   - Missing values in the **PQ First Sent to Client Date** and **Dosage** columns were filled using the mode (most frequent value) of their respective columns.\n",
        "\n",
        "3. **Outlier Detection:**\n",
        "   - Potential outliers for numeric columns like **Unit of Measure (Per Pack)**, **Line Item Quantity**, etc., were detected using the **interquartile range (IQR)** method. This helps identify unusual or extreme values for further investigation.\n",
        "\n",
        "4. **Shipment Mode and Country Analysis:**\n",
        "   - The relationship between **Shipment Mode** and **Country** was analyzed to determine which shipment modes are used in each country.\n",
        "   - A count of unique countries served by each shipment mode was provided.\n",
        "\n",
        "5. **Manufacturing Site and Country Analysis:**\n",
        "   - The connection between **Manufacturing Site** and **Country** was explored to identify the locations of manufacturing sites.\n",
        "   - The number of unique countries associated with each manufacturing site was calculated.\n",
        "\n",
        "6. **Order Counts by Country:**\n",
        "   - The number of orders (represented by unique order IDs) was calculated and sorted for each country to reveal which countries have the most and least orders.\n",
        "\n",
        "7. **Delivery Time Difference:**\n",
        "   - A new column, **Delivery Time**, was created by calculating the difference between the **Scheduled Delivery Date** and the **Delivered to Client Date**. This helps analyze delivery delays or early deliveries.\n"
      ],
      "metadata": {
        "id": "LbyXE7I1olp8"
      }
    },
    {
      "cell_type": "markdown",
      "source": [
        "## ***4. Data Vizualization, Storytelling & Experimenting with charts : Understand the relationships between variables***"
      ],
      "metadata": {
        "id": "GF8Ens_Soomf"
      }
    },
    {
      "cell_type": "markdown",
      "source": [
        "#### Chart - 1"
      ],
      "metadata": {
        "id": "0wOQAZs5pc--"
      }
    },
    {
      "cell_type": "code",
      "source": [
        "# 1. Shipment Volume by Country\n",
        "plt.figure(figsize=(10,6))\n",
        "df['Country'].value_counts().plot(kind='bar', color='skyblue')\n",
        "plt.title('Shipment Volume by Country')\n",
        "plt.xlabel('Country')\n",
        "plt.ylabel('Number of Shipments')\n",
        "plt.xticks(rotation=90)\n",
        "plt.show()"
      ],
      "metadata": {
        "id": "7v_ESjsspbW7"
      },
      "execution_count": null,
      "outputs": []
    },
    {
      "cell_type": "markdown",
      "source": [
        "##### 1. Why did you pick the specific chart?"
      ],
      "metadata": {
        "id": "K5QZ13OEpz2H"
      }
    },
    {
      "cell_type": "markdown",
      "source": [
        "A bar chart showing the number of shipments per destination country can reveal which countries receive the highest shipment volumes. This helps in understanding market focus and distribution patterns."
      ],
      "metadata": {
        "id": "XESiWehPqBRc"
      }
    },
    {
      "cell_type": "markdown",
      "source": [
        "##### 2. What is/are the insight(s) found from the chart?"
      ],
      "metadata": {
        "id": "lQ7QKXXCp7Bj"
      }
    },
    {
      "cell_type": "markdown",
      "source": [
        "This bar chart presents the shipment volume for each country. The insight gained from this chart is that the highest shipment volume is for South Africa, followed by Nigeria and then Kenya.\n"
      ],
      "metadata": {
        "id": "C_j1G7yiqdRP"
      }
    },
    {
      "cell_type": "markdown",
      "source": [
        "##### 3. Will the gained insights help creating a positive business impact?\n",
        "Are there any insights that lead to negative growth? Justify with specific reason."
      ],
      "metadata": {
        "id": "448CDAPjqfQr"
      }
    },
    {
      "cell_type": "markdown",
      "source": [
        "The insights can lead to better resource allocation, improved delivery times, and targeted marketing. However, FedEx should avoid over-reliance on a few markets and monitor emerging regions for potential growth."
      ],
      "metadata": {
        "id": "3cspy4FjqxJW"
      }
    },
    {
      "cell_type": "markdown",
      "source": [
        "#### Chart - 2"
      ],
      "metadata": {
        "id": "KSlN3yHqYklG"
      }
    },
    {
      "cell_type": "code",
      "source": [
        "# 2. Shipment Mode Distribution\n",
        "plt.figure(figsize=(8,8))\n",
        "df['Shipment Mode'].value_counts().plot(kind='pie', autopct='%1.1f%%', colors=sns.color_palette(\"Set3\"))\n",
        "plt.title('Shipment Mode Distribution')\n",
        "plt.ylabel('')\n",
        "plt.show()"
      ],
      "metadata": {
        "id": "R4YgtaqtYklH"
      },
      "execution_count": null,
      "outputs": []
    },
    {
      "cell_type": "markdown",
      "source": [
        "##### 1. Why did you pick the specific chart?"
      ],
      "metadata": {
        "id": "t6dVpIINYklI"
      }
    },
    {
      "cell_type": "markdown",
      "source": [
        "A pie chart can provide a clear breakdown of the different transportation methods (e.g., air, sea, land). This will be useful in assessing the most commonly used shipment modes."
      ],
      "metadata": {
        "id": "5aaW0BYyYklI"
      }
    },
    {
      "cell_type": "markdown",
      "source": [
        "##### 2. What is/are the insight(s) found from the chart?"
      ],
      "metadata": {
        "id": "ijmpgYnKYklI"
      }
    },
    {
      "cell_type": "markdown",
      "source": [
        "The pie chart reveals the following insights about shipment modes:\n",
        "\n",
        "1. **Air is the most common mode of shipment**, accounting for a significant portion of the total shipments. This suggests that the majority of the deliveries are time-sensitive, as air transportation is typically faster, though more expensive.\n",
        "\n",
        "2. **Ocean is the least used mode of shipment**, indicating that very few deliveries are done via this slower, but often cheaper method. This could mean that only certain types of goods or locations are served via ocean freight, or there is less demand for such deliveries in this dataset.\n",
        "\n",
        "The prevalence of air shipments might suggest a focus on faster delivery times, which could impact the overall logistics costs, while the minor use of ocean shipping suggests a niche or limited usage for less urgent, bulk shipments."
      ],
      "metadata": {
        "id": "PSx9atu2YklI"
      }
    },
    {
      "cell_type": "markdown",
      "source": [
        "##### 3. Will the gained insights help creating a positive business impact?\n",
        "Are there any insights that lead to negative growth? Justify with specific reason."
      ],
      "metadata": {
        "id": "-JiQyfWJYklI"
      }
    },
    {
      "cell_type": "markdown",
      "source": [
        "### Positive Business Impact:\n",
        "- **Air shipment dominance** suggests prioritizing fast deliveries, enhancing customer satisfaction and loyalty.\n",
        "- **Strategic use of air for urgent deliveries** can help balance costs and improve profitability.\n",
        "\n",
        "### Potential Negative Growth:\n",
        "- **Over-reliance on air shipment** can lead to high operational costs, reducing profit margins.\n",
        "- **Underutilization of ocean freight** means missed opportunities for cost savings on non-urgent or bulk shipments.\n",
        "\n",
        "Balancing shipment modes is key to reducing costs and maintaining efficiency."
      ],
      "metadata": {
        "id": "BcBbebzrYklV"
      }
    },
    {
      "cell_type": "markdown",
      "source": [
        "#### Chart - 3"
      ],
      "metadata": {
        "id": "EM7whBJCYoAo"
      }
    },
    {
      "cell_type": "code",
      "source": [
        "# 3. Line Item Value Distribution\n",
        "plt.figure(figsize=(10,6))\n",
        "sns.histplot(df['Line Item Value'], bins=20, color='green', kde=True)\n",
        "plt.title('Line Item Value Distribution')\n",
        "plt.xlabel('Line Item Value (USD)')\n",
        "plt.ylabel('Frequency')\n",
        "plt.show()"
      ],
      "metadata": {
        "id": "t6GMdE67YoAp"
      },
      "execution_count": null,
      "outputs": []
    },
    {
      "cell_type": "markdown",
      "source": [
        "##### 1. Why did you pick the specific chart?"
      ],
      "metadata": {
        "id": "fge-S5ZAYoAp"
      }
    },
    {
      "cell_type": "markdown",
      "source": [
        "A histogram of line item values helps to understand the spread and distribution of shipment costs. It can reveal whether there are many low-value or high-value shipments, aiding in cost analysis."
      ],
      "metadata": {
        "id": "5dBItgRVYoAp"
      }
    },
    {
      "cell_type": "markdown",
      "source": [
        "##### 2. What is/are the insight(s) found from the chart?"
      ],
      "metadata": {
        "id": "85gYPyotYoAp"
      }
    },
    {
      "cell_type": "markdown",
      "source": [
        "From the chart, here are the key insights:\n",
        "\n",
        "1. **Right-skewed distribution:** Most of the line item values are clustered toward the lower end of the range, indicating that the majority of the items have low values. There is a sharp decline in frequency as the value increases.\n",
        "   \n",
        "2. **Presence of high-value outliers:** A long tail extends to the right, showing a few items with significantly higher values, but they occur infrequently.\n",
        "\n",
        "In summary, most line items have low values, but there are some high-value outliers in the data."
      ],
      "metadata": {
        "id": "4jstXR6OYoAp"
      }
    },
    {
      "cell_type": "markdown",
      "source": [
        "##### 3. Will the gained insights help creating a positive business impact?\n",
        "Are there any insights that lead to negative growth? Justify with specific reason."
      ],
      "metadata": {
        "id": "RoGjAbkUYoAp"
      }
    },
    {
      "cell_type": "markdown",
      "source": [
        "### Positive Business Impact:\n",
        "- **High volume of low-value items** ensures consistent cash flow.\n",
        "- **High-value outliers** boost revenue through premium or bulk sales.\n",
        "\n",
        "### Potential Negative Growth:\n",
        "- **Over-reliance on low-value items** may lead to small profit margins, especially if costs increase.\n",
        "- **Underutilization of high-value items** means missing out on potential growth.\n",
        "\n",
        "Balancing both segments can drive profitability, while neglecting them could hinder growth."
      ],
      "metadata": {
        "id": "zfJ8IqMcYoAp"
      }
    },
    {
      "cell_type": "markdown",
      "source": [
        "#### Chart - 4"
      ],
      "metadata": {
        "id": "4Of9eVA-YrdM"
      }
    },
    {
      "cell_type": "code",
      "source": [
        "# 4. Average Unit Price by Dosage Form\n",
        "plt.figure(figsize=(10,6))\n",
        "avg_unit_price = df.groupby('Dosage Form')['Unit Price'].mean().sort_values(ascending=False)\n",
        "avg_unit_price.plot(kind='bar', color='lightgreen')\n",
        "plt.title('Average Unit Price by Dosage Form')\n",
        "plt.xlabel('Dosage Form')\n",
        "plt.ylabel('Average Unit Price (USD)')\n",
        "plt.xticks(rotation=90)\n",
        "plt.show()"
      ],
      "metadata": {
        "id": "irlUoxc8YrdO"
      },
      "execution_count": null,
      "outputs": []
    },
    {
      "cell_type": "markdown",
      "source": [
        "##### 1. Why did you pick the specific chart?"
      ],
      "metadata": {
        "id": "iky9q4vBYrdO"
      }
    },
    {
      "cell_type": "markdown",
      "source": [
        " A box plot can show the variability and distribution of pack prices for each product group. This helps in detecting price outliers and variations within different types of products, such as pharmaceutical items."
      ],
      "metadata": {
        "id": "aJRCwT6DYrdO"
      }
    },
    {
      "cell_type": "markdown",
      "source": [
        "##### 2. What is/are the insight(s) found from the chart?"
      ],
      "metadata": {
        "id": "F6T5p64dYrdO"
      }
    },
    {
      "cell_type": "markdown",
      "source": [
        "The chart showing **Average Unit Price by Dosage Form** provides the following insights:\n",
        "\n",
        "1. **Injections have the highest average unit price** compared to other dosage forms, indicating they are the most expensive form of medication per unit. This may be due to the complexity of production or the nature of the products requiring injections.\n",
        "   \n",
        "2. **Test kits and ancillary items** are the next highest in terms of unit price, suggesting they may also be premium products or require specialized manufacturing.\n",
        "\n",
        "3. **Tablets, capsules, and powders** have significantly lower average unit prices, making them the most affordable dosage forms. These might be produced at scale or are more standardized, resulting in lower costs.\n",
        "\n",
        "Overall, this chart highlights a large price disparity between higher-cost dosage forms like injections and more common, lower-cost forms like tablets."
      ],
      "metadata": {
        "id": "Xx8WAJvtYrdO"
      }
    },
    {
      "cell_type": "markdown",
      "source": [
        "##### 3. Will the gained insights help creating a positive business impact?\n",
        "Are there any insights that lead to negative growth? Justify with specific reason."
      ],
      "metadata": {
        "id": "y-Ehk30pYrdP"
      }
    },
    {
      "cell_type": "markdown",
      "source": [
        "### Positive Business Impact:\n",
        "- **High-value products (injections, test kits)** boost revenue and profit margins.\n",
        "- **Low-cost products (tablets, capsules)** ensure broad customer reach and stable sales.\n",
        "\n",
        "### Potential Negative Growth:\n",
        "- **Over-reliance on high-cost items** may limit market reach due to price sensitivity.\n",
        "- **Low margins on affordable products** could lead to profitability challenges if costs rise.\n",
        "\n",
        "Balancing both high-value and affordable products is key for sustained growth."
      ],
      "metadata": {
        "id": "jLNxxz7MYrdP"
      }
    },
    {
      "cell_type": "markdown",
      "source": [
        "#### Chart - 5"
      ],
      "metadata": {
        "id": "bamQiAODYuh1"
      }
    },
    {
      "cell_type": "code",
      "source": [
        "# 5. Freight Cost vs Weight (Kilograms)\n",
        "plt.figure(figsize=(10,6))\n",
        "sns.scatterplot(x='Weight (Kilograms)', y='Freight Cost (USD)', data=df, hue='Product Group', palette='coolwarm')\n",
        "plt.title('Freight Cost vs Weight')\n",
        "plt.xlabel('Weight (Kilograms)')\n",
        "plt.ylabel('Freight Cost (USD)')\n",
        "plt.show()"
      ],
      "metadata": {
        "id": "TIJwrbroYuh3"
      },
      "execution_count": null,
      "outputs": []
    },
    {
      "cell_type": "markdown",
      "source": [
        "##### 1. Why did you pick the specific chart?"
      ],
      "metadata": {
        "id": "QHF8YVU7Yuh3"
      }
    },
    {
      "cell_type": "markdown",
      "source": [
        "A scatter plot shows the relationship between shipment weight and its freight cost. This is useful to assess whether heavier shipments incur proportionally higher costs or if there are exceptions."
      ],
      "metadata": {
        "id": "dcxuIMRPYuh3"
      }
    },
    {
      "cell_type": "markdown",
      "source": [
        "##### 2. What is/are the insight(s) found from the chart?"
      ],
      "metadata": {
        "id": "GwzvFGzlYuh3"
      }
    },
    {
      "cell_type": "markdown",
      "source": [
        "The **Freight Cost vs Weight** scatter plot provides the following insights:\n",
        "\n",
        "1. **Positive correlation (but not linear):**\n",
        "   - There is a general trend where higher weight leads to higher freight costs, but the relationship is not strictly linear. As weight increases, the cost varies, with some high weights resulting in lower-than-expected costs.\n",
        "\n",
        "2. **Cluster of low-weight, low-cost shipments:**\n",
        "   - The majority of shipments are concentrated in the low-weight (below 20,000 kg) and low-cost (below $50,000) range, indicating that most products fall within this category.\n",
        "\n",
        "3. **Outliers:**\n",
        "   - There are several notable outliers, with some shipments having extremely high freight costs (above $150,000) even at lower weights, suggesting possible inefficiencies or specialized shipping needs.\n",
        "   \n",
        "4. **Product group differentiation:**\n",
        "   - The color coding by product group (e.g., HRDT, ARV, etc.) shows that different product types may follow different cost-weight patterns, though no single group dominates all weight or cost categories.\n",
        "\n",
        "Overall, there is a pattern of increasing freight cost with weight, but outliers and variation suggest other factors influence costs. This can point to optimization opportunities in logistics."
      ],
      "metadata": {
        "id": "uyqkiB8YYuh3"
      }
    },
    {
      "cell_type": "markdown",
      "source": [
        "##### 3. Will the gained insights help creating a positive business impact?\n",
        "Are there any insights that lead to negative growth? Justify with specific reason."
      ],
      "metadata": {
        "id": "qYpmQ266Yuh3"
      }
    },
    {
      "cell_type": "markdown",
      "source": [
        "### Positive Business Impact:\n",
        "- **Optimize shipping costs:** Identifying outliers with high freight costs at low weights highlights opportunities to reduce inefficiencies and optimize logistics.\n",
        "- **Focus on most frequent shipments:** The concentration of low-weight, low-cost shipments suggests that improving processes in this area could enhance cost efficiency and profitability.\n",
        "\n",
        "### Potential Negative Growth:\n",
        "- **Unaddressed high-cost outliers:** If the high freight costs for certain low-weight shipments aren't managed, it could lead to unnecessary expenses, impacting profit margins.\n",
        "  \n",
        "Addressing inefficiencies and optimizing shipping processes can drive positive growth, while ignoring outliers may lead to increased costs."
      ],
      "metadata": {
        "id": "_WtzZ_hCYuh4"
      }
    },
    {
      "cell_type": "markdown",
      "source": [
        "#### Chart - 6"
      ],
      "metadata": {
        "id": "OH-pJp9IphqM"
      }
    },
    {
      "cell_type": "code",
      "source": [
        "# 6. Line Item Quantity by Vendor\n",
        "plt.figure(figsize=(12,6))\n",
        "df.groupby('Vendor')['Line Item Quantity'].sum().sort_values(ascending=False).plot(kind='bar', color='purple')\n",
        "plt.title('Line Item Quantity by Vendor')\n",
        "plt.xlabel('Vendor')\n",
        "plt.ylabel('Total Line Item Quantity')\n",
        "plt.xticks(rotation=90)\n",
        "plt.show()\n"
      ],
      "metadata": {
        "id": "Csx6rHYuX3fV"
      },
      "execution_count": null,
      "outputs": []
    },
    {
      "cell_type": "markdown",
      "source": [
        "##### 1. Why did you pick the specific chart?"
      ],
      "metadata": {
        "id": "bbFf2-_FphqN"
      }
    },
    {
      "cell_type": "markdown",
      "source": [
        "A bar chart depicting line item quantity per vendor can reveal which vendors are responsible for supplying the most goods. This can help in identifying key vendors contributing to the overall supply chain."
      ],
      "metadata": {
        "id": "loh7H2nzphqN"
      }
    },
    {
      "cell_type": "markdown",
      "source": [
        "##### 2. What is/are the insight(s) found from the chart?"
      ],
      "metadata": {
        "id": "_ouA3fa0phqN"
      }
    },
    {
      "cell_type": "markdown",
      "source": [
        "The **Line Item Quantity by Vendor** chart shows the following insights:\n",
        "\n",
        "1. **Highly Skewed Distribution:**\n",
        "   - A few vendors (like Aurobindo from RDC and Mylan Laboratories) account for the vast majority of the total line item quantity. This indicates a highly concentrated supply chain where only a few vendors handle most of the product volume.\n",
        "\n",
        "2. **Long Tail of Vendors:**\n",
        "   - Many vendors contribute very small quantities, suggesting that a large number of suppliers are responsible for only a small portion of the overall procurement.\n",
        "\n",
        "3. **Vendor Dependence:**\n",
        "   - The business may be heavily reliant on a small number of key vendors, which could pose a risk in terms of supply chain disruptions if these vendors face issues.\n",
        "\n",
        "This insight suggests potential opportunities for risk mitigation and vendor diversification."
      ],
      "metadata": {
        "id": "VECbqPI7phqN"
      }
    },
    {
      "cell_type": "markdown",
      "source": [
        "##### 3. Will the gained insights help creating a positive business impact?\n",
        "Are there any insights that lead to negative growth? Justify with specific reason."
      ],
      "metadata": {
        "id": "Seke61FWphqN"
      }
    },
    {
      "cell_type": "markdown",
      "source": [
        "### Positive Business Impact:\n",
        "- **Focus on top vendors:** The high concentration of purchases from a few vendors allows for strong relationships and potential cost-saving negotiations.\n",
        "- **Streamline procurement:** Prioritizing key vendors may enhance operational efficiency and reduce complexity.\n",
        "\n",
        "### Potential Negative Growth:\n",
        "- **Vendor dependency risk:** Over-reliance on a few vendors increases vulnerability to supply chain disruptions, potentially leading to delays or shortages.\n",
        "\n",
        "Diversifying the vendor base while maintaining strong relationships with key suppliers is essential for growth and risk mitigation."
      ],
      "metadata": {
        "id": "DW4_bGpfphqN"
      }
    },
    {
      "cell_type": "markdown",
      "source": [
        "#### Chart - 7"
      ],
      "metadata": {
        "id": "PIIx-8_IphqN"
      }
    },
    {
      "cell_type": "code",
      "source": [
        "# 7. Scheduled vs Actual Delivery Time (Line Chart)\n",
        "df['Scheduled Delivery Date'] = pd.to_datetime(df['Scheduled Delivery Date'])\n",
        "df['Delivered to Client Date'] = pd.to_datetime(df['Delivered to Client Date'])\n",
        "df['Delivery Delay'] = (df['Delivered to Client Date'] - df['Scheduled Delivery Date']).dt.days\n",
        "\n",
        "plt.figure(figsize=(10,6))\n",
        "sns.lineplot(data=df, x='Scheduled Delivery Date', y='Delivery Delay', label='Delivery Delay (Days)', color='red')\n",
        "plt.title('Scheduled vs Actual Delivery Time')\n",
        "plt.ylabel('Delivery Delay (Days)')\n",
        "plt.xlabel('Scheduled Delivery Date')\n",
        "plt.xticks(rotation=45)\n",
        "plt.show()"
      ],
      "metadata": {
        "id": "lqAIGUfyphqO"
      },
      "execution_count": null,
      "outputs": []
    },
    {
      "cell_type": "markdown",
      "source": [
        "##### 1. Why did you pick the specific chart?"
      ],
      "metadata": {
        "id": "t27r6nlMphqO"
      }
    },
    {
      "cell_type": "markdown",
      "source": [
        "A line chart showing the comparison between scheduled and actual delivery times can provide insights into shipping performance. It can highlight whether there are delays and how often deliveries meet their planned schedules."
      ],
      "metadata": {
        "id": "iv6ro40sphqO"
      }
    },
    {
      "cell_type": "markdown",
      "source": [
        "##### 2. What is/are the insight(s) found from the chart?"
      ],
      "metadata": {
        "id": "r2jJGEOYphqO"
      }
    },
    {
      "cell_type": "markdown",
      "source": [
        "## Insights from the \"Scheduled vs Actual Delivery Time\" Chart\n",
        "\n",
        "**1. Delivery Delays:**\n",
        "* **Frequent Delays:** The chart shows a significant number of positive values, indicating frequent delivery delays.\n",
        "* **Magnitude of Delays:** Some delays are substantial, exceeding 100 days.\n",
        "* **Year-Over-Year Fluctuations:** The magnitude and frequency of delays seem to vary across different years.\n",
        "\n",
        "**2. Early Deliveries:**\n",
        "* **Occasional:** Negative values suggest that deliveries were sometimes completed earlier than scheduled.\n",
        "* **Less Frequent:** Early deliveries are less common compared to delays.\n",
        "\n",
        "**3. Overall Trend:**\n",
        "* **No Consistent Trend:** The chart doesn't reveal a clear overall trend in delivery delays or early deliveries over the years. It fluctuates significantly.\n",
        "\n",
        "**Additional Insights (if data were more granular):**\n",
        "* **Seasonal Patterns:** Analyzing data by month or quarter could reveal seasonal trends in delays or early deliveries.\n",
        "* **Product or Region-Specific Trends:** If the data includes product or region information, it would be possible to identify specific areas where delays or early deliveries are more common.\n",
        "* **Root Causes:** By correlating the chart with other data points (e.g., order volume, transportation methods, supplier performance), it might be possible to identify the root causes of delays or early deliveries.\n",
        "\n",
        "**Overall, the chart highlights a significant issue with delivery performance, indicating a need for further investigation and potential improvements in the supply chain or logistics processes.**\n"
      ],
      "metadata": {
        "id": "Po6ZPi4hphqO"
      }
    },
    {
      "cell_type": "markdown",
      "source": [
        "##### 3. Will the gained insights help creating a positive business impact?\n",
        "Are there any insights that lead to negative growth? Justify with specific reason."
      ],
      "metadata": {
        "id": "b0JNsNcRphqO"
      }
    },
    {
      "cell_type": "markdown",
      "source": [
        "**Yes, the insights gained from the chart can help create a positive business impact.**\n",
        "\n",
        "By understanding the patterns in delivery delays and early deliveries, businesses can:\n",
        "\n",
        "* **Improve customer satisfaction:** Reducing delays and ensuring timely deliveries can enhance customer satisfaction and loyalty.\n",
        "* **Optimize logistics operations:** Identifying areas with frequent delays can help businesses optimize their logistics processes, reducing costs and improving efficiency.\n",
        "* **Strengthen supplier relationships:** Analyzing the root causes of delays can lead to better communication and collaboration with suppliers.\n",
        "\n",
        "**However, it's important to note that some insights might lead to negative growth if not addressed properly:**\n",
        "\n",
        "* **Excessive focus on reducing delays:** If a business becomes overly focused on reducing delays without considering other factors (e.g., costs, customer needs), it could lead to increased costs or decreased customer satisfaction.\n",
        "* **Ignoring early deliveries:** While early deliveries might seem like a positive, they could also indicate inefficiencies in the supply chain that need to be addressed to avoid unnecessary costs.\n",
        "\n",
        "**Therefore, it's crucial to analyze the insights holistically and implement strategies that balance the need for timely deliveries with other business objectives.**\n"
      ],
      "metadata": {
        "id": "xvSq8iUTphqO"
      }
    },
    {
      "cell_type": "markdown",
      "source": [
        "#### Chart - 8"
      ],
      "metadata": {
        "id": "BZR9WyysphqO"
      }
    },
    {
      "cell_type": "code",
      "source": [
        "\n",
        "\n",
        "# Group data by Brand and Dosage Form, calculate counts, and create a DataFrame\n",
        "count_of_dosage_forms = (\n",
        "    df.groupby([\"Brand\", \"Dosage Form\"])\n",
        "    .size()\n",
        "    .to_frame(name=\"Count\")\n",
        "    .reset_index()\n",
        ")\n",
        "\n",
        "# Create a stacked bar chart with a custom color palette\n",
        "plt.figure(figsize=(12, 6))\n",
        "sns.barplot(\n",
        "    x=\"Brand\",\n",
        "    y=\"Count\",\n",
        "    hue=\"Dosage Form\",\n",
        "    data=count_of_dosage_forms,\n",
        "    palette=\"colorblind\",  # Choose a color palette suitable for color blindness\n",
        ")\n",
        "\n",
        "# Customize labels, title, and legend\n",
        "plt.xlabel(\"Brand\", fontsize=12)\n",
        "plt.ylabel(\"Count\", fontsize=12)\n",
        "plt.title(\"Dosage Forms Distribution by Brand\", fontsize=14)\n",
        "plt.xticks(rotation=45, ha=\"right\", fontsize=10)  # Rotate x-axis labels for readability\n",
        "plt.yticks(fontsize=10)\n",
        "plt.legend(title=\"Dosage Form\", fontsize=10, loc=\"upper right\")  # Move legend to upper right corner\n",
        "\n",
        "# Customize grid and axes for clarity\n",
        "plt.grid(axis=\"y\", linestyle=\"--\", alpha=0.7)  # Add horizontal gridlines with transparency\n",
        "plt.tight_layout()  # Adjust spacing between elements\n",
        "\n",
        "plt.show()"
      ],
      "metadata": {
        "id": "RSr1Fgj4SdZz"
      },
      "execution_count": null,
      "outputs": []
    },
    {
      "cell_type": "markdown",
      "source": [
        "##### 1. Why did you pick the specific chart?"
      ],
      "metadata": {
        "id": "jj7wYXLtphqO"
      }
    },
    {
      "cell_type": "markdown",
      "source": [
        "I chose a bar chart to visualize the \"Dosage Forms Distribution by Brand\" data because it's the most suitable for comparing the frequency of different dosage forms across multiple brands"
      ],
      "metadata": {
        "id": "Ob8u6rCTphqO"
      }
    },
    {
      "cell_type": "markdown",
      "source": [
        "##### 2. What is/are the insight(s) found from the chart?"
      ],
      "metadata": {
        "id": "eZrbJ2SmphqO"
      }
    },
    {
      "cell_type": "markdown",
      "source": [
        "## Insights from the \"Dosage Forms Distribution by Brand\" Chart\n",
        "\n",
        "**1. Dosage Form Dominance:**\n",
        "* **Tablets:** Tablets are the most common dosage form across most brands, indicating their popularity or ease of manufacturing.\n",
        "* **Variations:** Within the tablet category, different formulations (e.g., FDC, blister packaging) are also prevalent.\n",
        "\n",
        "**2. Brand-Specific Preferences:**\n",
        "* **Diverse Dosage Forms:** Some brands offer a wider variety of dosage forms, suggesting they cater to a broader range of patient needs or market segments.\n",
        "* **Specializations:** Other brands may focus on specific dosage forms, potentially indicating a specialization in particular therapeutic areas.\n",
        "\n",
        "**3. Niche Dosage Forms:**\n",
        "* **Limited Usage:** Certain dosage forms, like delayed-release capsules or oral powders, are less common, suggesting they might have niche applications or be used for specific medical conditions.\n",
        "\n",
        "**4. Brand-Specific Trends:**\n",
        "* **Unique Formulations:** Some brands may have unique dosage form offerings that set them apart from competitors.\n",
        "\n",
        "**Additional Insights (if data were more granular):**\n",
        "* **Market Trends:** Analyzing the distribution of dosage forms over time could reveal market trends or changes in patient preferences.\n",
        "* **Therapeutic Area Analysis:** If the data includes information on the therapeutic areas for each brand, it would be possible to identify dosage forms commonly used in specific medical conditions.\n",
        "* **Regulatory Factors:** Understanding the regulatory landscape for different dosage forms could provide insights into the factors driving their popularity or limitations.\n",
        "\n",
        "**Overall, the chart provides valuable information about the dosage form preferences of different brands, which can be used to understand market trends, identify opportunities for product development, and inform marketing strategies.**\n"
      ],
      "metadata": {
        "id": "mZtgC_hjphqO"
      }
    },
    {
      "cell_type": "markdown",
      "source": [
        "##### 3. Will the gained insights help creating a positive business impact?\n",
        "Are there any insights that lead to negative growth? Justify with specific reason."
      ],
      "metadata": {
        "id": "rFu4xreNphqO"
      }
    },
    {
      "cell_type": "markdown",
      "source": [
        "**Yes, the insights gained from the \"Dosage Forms Distribution by Brand\" chart can help create a positive business impact.**\n",
        "\n",
        "By understanding the dosage form preferences of different brands, businesses can:\n",
        "\n",
        "* **Optimize product portfolios:** Identifying the most popular dosage forms can help companies focus on developing and promoting products that meet market demand.\n",
        "* **Identify niche opportunities:** Understanding the usage of less common dosage forms can reveal potential niche markets where businesses can differentiate themselves.\n",
        "* **Improve marketing strategies:** Tailoring marketing messages to emphasize the benefits of specific dosage forms can enhance product appeal.\n",
        "* **Inform regulatory compliance:** Knowledge of dosage form trends can help businesses anticipate regulatory changes and ensure compliance.\n",
        "\n",
        "**However, it's important to note that some insights might lead to negative growth if not addressed properly:**\n",
        "\n",
        "* **Overemphasis on popular dosage forms:** If a business becomes overly focused on the most popular dosage forms without considering other factors (e.g., therapeutic needs, regulatory requirements), it could miss out on opportunities in niche markets.\n",
        "* **Ignoring regulatory changes:** Failing to adapt to changes in dosage form regulations could lead to product recalls, fines, or loss of market share.\n",
        "* **Neglecting patient preferences:** Overlooking the preferences of patients for certain dosage forms could result in decreased customer satisfaction and market share.\n",
        "\n",
        "**Therefore, it's crucial to analyze the insights holistically and implement strategies that balance the need to meet market demand with other business objectives.**\n"
      ],
      "metadata": {
        "id": "ey_0qi68phqO"
      }
    },
    {
      "cell_type": "markdown",
      "source": [
        "#### Chart - 9"
      ],
      "metadata": {
        "id": "YJ55k-q6phqO"
      }
    },
    {
      "cell_type": "code",
      "source": [
        "# 9. Top 10 Vendors by Freight Cost\n",
        "top_vendors_freight = df.groupby('Vendor')['Freight Cost (USD)'].sum().nlargest(10)\n",
        "plt.figure(figsize=(10,6))\n",
        "top_vendors_freight.plot(kind='barh', color='orange')\n",
        "plt.title('Top 10 Vendors by Freight Cost')\n",
        "plt.xlabel('Freight Cost (USD)')\n",
        "plt.ylabel('Vendor')\n",
        "plt.show()"
      ],
      "metadata": {
        "id": "B2aS4O1ophqO"
      },
      "execution_count": null,
      "outputs": []
    },
    {
      "cell_type": "markdown",
      "source": [
        "##### 1. Why did you pick the specific chart?"
      ],
      "metadata": {
        "id": "gCFgpxoyphqP"
      }
    },
    {
      "cell_type": "markdown",
      "source": [
        "Graph Type: Horizontal bar chart\n",
        "\n",
        "Reason: Identifies the vendors contributing the most to freight costs, which helps in understanding logistics costs associated with each vendor."
      ],
      "metadata": {
        "id": "TVxDimi2phqP"
      }
    },
    {
      "cell_type": "markdown",
      "source": [
        "##### 2. What is/are the insight(s) found from the chart?"
      ],
      "metadata": {
        "id": "OVtJsKN_phqQ"
      }
    },
    {
      "cell_type": "markdown",
      "source": [
        "## Insights from the \"Top 10 Vendors by Freight Cost\" Chart\n",
        "\n",
        "**1. Vendor Dominance:**\n",
        "* **SCMS from RDC** is the clear leader in terms of freight costs, significantly outspending other vendors.\n",
        "* **Orgenics, Ltd** also stands out with a notably higher freight cost compared to most of the other vendors.\n",
        "\n",
        "**2. Clustering:**\n",
        "* **Mid-Tier Vendors:** The majority of vendors seem to fall within a similar range of freight costs, suggesting a relatively competitive landscape.\n",
        "\n",
        "**3. Variance:**\n",
        "* **Individual Variations:** While there is a general clustering, there are still variations among the vendors within the mid-tier, indicating differences in shipping practices, product characteristics, or supply chain strategies.\n",
        "\n",
        "**Additional Insights (if data were more granular):**\n",
        "* **Product-Level Analysis:** Analyzing freight costs at the product level could reveal which products or categories contribute most to the overall costs.\n",
        "* **Shipping Mode Analysis:** Understanding the shipping modes used by different vendors (e.g., air, sea, land) could provide insights into factors influencing freight costs.\n",
        "* **Geographic Considerations:** Analyzing the geographic distribution of shipments could identify regions with higher transportation costs.\n",
        "\n",
        "**Overall, the chart highlights the significant disparity in freight costs between the top vendors and the rest of the group. Further analysis could uncover the underlying reasons for this variation and identify opportunities for cost reduction or negotiation.**\n"
      ],
      "metadata": {
        "id": "ngGi97qjphqQ"
      }
    },
    {
      "cell_type": "markdown",
      "source": [
        "##### 3. Will the gained insights help creating a positive business impact?\n",
        "Are there any insights that lead to negative growth? Justify with specific reason."
      ],
      "metadata": {
        "id": "lssrdh5qphqQ"
      }
    },
    {
      "cell_type": "markdown",
      "source": [
        "**Yes, the insights gained from the \"Top 10 Vendors by Freight Cost\" chart can help create a positive business impact.**\n",
        "\n",
        "By understanding the significant disparity in freight costs between the top vendors and the rest of the group, businesses can:\n",
        "\n",
        "* **Negotiate better rates:** Identifying vendors with lower freight costs can provide leverage for negotiating better rates with existing suppliers.\n",
        "* **Optimize shipping practices:** Analyzing the factors contributing to higher freight costs can lead to improvements in shipping methods, packaging, or routing.\n",
        "* **Explore alternative suppliers:** If freight costs are excessively high, businesses can consider sourcing from alternative vendors with more competitive rates.\n",
        "\n",
        "**However, it's important to note that some insights might lead to negative growth if not addressed properly:**\n",
        "\n",
        "* **Overemphasis on cost reduction:** If a business becomes solely focused on reducing freight costs without considering other factors (e.g., delivery time, product quality), it could lead to compromised service levels or increased product damage.\n",
        "* **Ignoring supplier relationships:** Prioritizing cost reduction over supplier relationships could damage long-term partnerships and lead to supply chain disruptions.\n",
        "* **Neglecting product characteristics:** Failing to consider the impact of product characteristics (e.g., size, weight, fragility) on freight costs could result in suboptimal shipping solutions.\n",
        "\n",
        "**Therefore, it's crucial to analyze the insights holistically and implement strategies that balance the need for cost reduction with other business objectives.**\n"
      ],
      "metadata": {
        "id": "tBpY5ekJphqQ"
      }
    },
    {
      "cell_type": "markdown",
      "source": [
        "#### Chart - 10"
      ],
      "metadata": {
        "id": "U2RJ9gkRphqQ"
      }
    },
    {
      "cell_type": "code",
      "source": [
        "# Chart - 10 visualization code\n",
        "c_S = df.groupby(['Country','Shipment Mode'])['ID'].count().unstack() # Select a column ('Customer Segment' for example) and apply count aggregation before unstacking\n",
        "c_S.plot(kind='bar',stacked=True)\n",
        "plt.xlabel('Country') # Changed x-axis label to reflect the grouping\n",
        "plt.ylabel('Count of Customer Segment') # Changed y-axis label to reflect the aggregation\n",
        "plt.title('Stacked Bar Chart: Country vs Shipment Mode vs Customer Segment Count') # Changed title to reflect the data being visualized\n",
        "plt.legend(title='Shipment Mode') # Changed legend title to reflect the grouping\n",
        "plt.show()"
      ],
      "metadata": {
        "id": "GM7a4YP4phqQ"
      },
      "execution_count": null,
      "outputs": []
    },
    {
      "cell_type": "markdown",
      "source": [
        "##### 1. Why did you pick the specific chart?"
      ],
      "metadata": {
        "id": "1M8mcRywphqQ"
      }
    },
    {
      "cell_type": "markdown",
      "source": [
        "I chose a stacked bar chart to visualize the \"Country vs Shipment Mode vs Customer Segment Count\" data because it's the most suitable for comparing the distribution of customer segments across different countries and shipment modes."
      ],
      "metadata": {
        "id": "8agQvks0phqQ"
      }
    },
    {
      "cell_type": "markdown",
      "source": [
        "##### 2. What is/are the insight(s) found from the chart?"
      ],
      "metadata": {
        "id": "tgIPom80phqQ"
      }
    },
    {
      "cell_type": "markdown",
      "source": [
        "## Insights from the \"Country vs Shipment Mode vs Customer Segment Count\" Chart\n",
        "\n",
        "**1. Shipment Mode Preferences:**\n",
        "* **Air:** Air is the most commonly used shipment mode across most countries, indicating a preference for speed or urgency.\n",
        "* **Ocean:** Ocean shipping is used less frequently, suggesting it might be preferred for larger shipments or lower-value goods.\n",
        "* **Truck:** Truck shipping is used in some countries, likely for regional or domestic shipments.\n",
        "\n",
        "**2. Country-Specific Preferences:**\n",
        "* **Diverse Usage:** Some countries exhibit a more diverse use of shipment modes, while others have a strong preference for a particular mode.\n",
        "* **Regional Factors:** Geographic location, infrastructure, and trade relationships might influence these preferences.\n",
        "\n",
        "**3. Customer Segment Distribution:**\n",
        "* **Varied Across Countries:** The distribution of customer segments (represented by different colors) varies significantly across countries, suggesting different market dynamics or product offerings in each region.\n",
        "* **Segment-Specific Preferences:** Certain customer segments might have specific preferences for particular shipment modes.\n",
        "\n",
        "**4. Regional Trends:**\n",
        "* **Clustering:** The chart might reveal regional trends, such as a preference for air shipping in certain regions or a higher use of ocean shipping in others.\n",
        "\n",
        "**Additional Insights (if data were more granular):**\n",
        "* **Product-Level Analysis:** Analyzing the data by product category could reveal whether certain products are more likely to be shipped using specific modes.\n",
        "* **Pricing Considerations:** Understanding the relative costs of different shipment modes could provide insights into factors driving mode preferences.\n",
        "* **Time Sensitivity:** Analyzing the time requirements for different shipment modes could reveal why certain modes are preferred in specific regions or for particular customer segments.\n",
        "\n",
        "**Overall, the chart provides valuable information about the shipment mode preferences and customer segment distribution across different countries, which can be used to optimize shipping strategies, improve customer satisfaction, and identify opportunities for cost reduction.**\n"
      ],
      "metadata": {
        "id": "Qp13pnNzphqQ"
      }
    },
    {
      "cell_type": "markdown",
      "source": [
        "##### 3. Will the gained insights help creating a positive business impact?\n",
        "Are there any insights that lead to negative growth? Justify with specific reason."
      ],
      "metadata": {
        "id": "JMzcOPDDphqR"
      }
    },
    {
      "cell_type": "markdown",
      "source": [
        "**Yes, the insights gained from the \"Country vs Shipment Mode vs Customer Segment Count\" chart can help create a positive business impact.**\n",
        "\n",
        "By understanding the shipment mode preferences and customer segment distribution across different countries, businesses can:\n",
        "\n",
        "* **Optimize shipping strategies:** Tailoring shipping methods to meet the specific needs of different regions and customer segments can improve delivery times, reduce costs, and enhance customer satisfaction.\n",
        "* **Identify market opportunities:** Understanding the distribution of customer segments in different countries can help businesses identify new market opportunities or expand into regions with high potential.\n",
        "* **Improve customer service:** By aligning shipping options with customer expectations, businesses can enhance their overall customer experience.\n",
        "\n",
        "**However, it's important to note that some insights might lead to negative growth if not addressed properly:**\n",
        "\n",
        "* **Overemphasis on cost reduction:** If a business becomes solely focused on reducing shipping costs without considering other factors (e.g., delivery time, customer satisfaction), it could lead to compromised service levels and lost customers.\n",
        "* **Ignoring regional preferences:** Failing to adapt shipping strategies to regional preferences could result in lower customer satisfaction and decreased market share.\n",
        "* **Neglecting customer segment needs:** Ignoring the specific needs of different customer segments could lead to dissatisfaction and lost business.\n",
        "\n",
        "**Therefore, it's crucial to analyze the insights holistically and implement strategies that balance the need for cost-effective shipping with other business objectives.**\n"
      ],
      "metadata": {
        "id": "R4Ka1PC2phqR"
      }
    },
    {
      "cell_type": "markdown",
      "source": [
        "#### Chart - 11"
      ],
      "metadata": {
        "id": "x-EpHcCOp1ci"
      }
    },
    {
      "cell_type": "code",
      "source": [
        "# 11. Top 10 Products by Shipment Volume (Horizontal Bar Chart)\n",
        "top_products = df.groupby('Item Description')['Line Item Quantity'].sum().nlargest(10)\n",
        "plt.figure(figsize=(10,6))\n",
        "top_products.plot(kind='barh', color='teal')\n",
        "plt.title('Top 10 Products by Shipment Volume')\n",
        "plt.xlabel('Total Shipment Volume')\n",
        "plt.ylabel('Product')\n",
        "plt.show()"
      ],
      "metadata": {
        "id": "mAQTIvtqp1cj"
      },
      "execution_count": null,
      "outputs": []
    },
    {
      "cell_type": "markdown",
      "source": [
        "##### 1. Why did you pick the specific chart?"
      ],
      "metadata": {
        "id": "X_VqEhTip1ck"
      }
    },
    {
      "cell_type": "markdown",
      "source": [
        "A horizontal bar chart showing the top 10 products (based on shipment quantity) gives a clear view of the most frequently shipped items, which helps in demand analysis."
      ],
      "metadata": {
        "id": "-vsMzt_np1ck"
      }
    },
    {
      "cell_type": "markdown",
      "source": [
        "##### 2. What is/are the insight(s) found from the chart?"
      ],
      "metadata": {
        "id": "8zGJKyg5p1ck"
      }
    },
    {
      "cell_type": "markdown",
      "source": [
        "## Insights from the \"Top 10 Products by Shipment Volume\" Chart\n",
        "\n",
        "**1. Product Dominance:**\n",
        "* **Lamivudine/Nevirapine/Zidovudine** combination is the clear leader in shipment volume, indicating strong demand or market share.\n",
        "* **Lamivudine**-based products are well-represented in the top 10, suggesting their popularity or effectiveness in certain therapeutic areas.\n",
        "\n",
        "**2. Combination Therapies:**\n",
        "* **Prevalence:** Many of the top products are combination therapies, suggesting a preference for multi-drug regimens in treating specific conditions.\n",
        "\n",
        "**3. Dosage Variations:**\n",
        "* **Multiple Formulations:** Different dosage strengths and tablet counts for the same product are present, indicating variations in treatment regimens or patient needs.\n",
        "\n",
        "**Overall, the chart highlights the dominance of certain product categories and the preference for combination therapies in the market. Further analysis could uncover the reasons for this dominance, including factors like therapeutic effectiveness, pricing, and regulatory approvals.**\n"
      ],
      "metadata": {
        "id": "ZYdMsrqVp1ck"
      }
    },
    {
      "cell_type": "markdown",
      "source": [
        "##### 3. Will the gained insights help creating a positive business impact?\n",
        "Are there any insights that lead to negative growth? Justify with specific reason."
      ],
      "metadata": {
        "id": "PVzmfK_Ep1ck"
      }
    },
    {
      "cell_type": "markdown",
      "source": [
        "**Yes, the insights gained from the \"Top 10 Products by Shipment Volume\" chart can help create a positive business impact.**\n",
        "\n",
        "By understanding the product dominance and market trends, businesses can:\n",
        "\n",
        "* **Focus on high-demand products:** Prioritizing the development and promotion of top-selling products can drive sales and increase market share.\n",
        "* **Identify growth opportunities:** Analyzing the reasons for the success of certain products can reveal opportunities for developing similar or complementary products.\n",
        "* **Optimize product portfolios:** Understanding the demand for different dosage forms and combination therapies can help businesses optimize their product offerings.\n",
        "\n",
        "**However, it's important to note that some insights might lead to negative growth if not addressed properly:**\n",
        "\n",
        "* **Overemphasis on top-selling products:** If a business becomes overly focused on the most popular products without considering market changes or emerging trends, it could miss out on new opportunities.\n",
        "* **Ignoring product diversity:** Relying too heavily on a single product category can make a business vulnerable to market fluctuations or regulatory changes.\n",
        "* **Neglecting product innovation:** Failing to invest in research and development to introduce new products or improve existing ones could lead to market share erosion.\n",
        "\n",
        "**Therefore, it's crucial to analyze the insights holistically and implement strategies that balance the need to focus on high-demand products with other business objectives, such as product innovation and diversification.**\n"
      ],
      "metadata": {
        "id": "druuKYZpp1ck"
      }
    },
    {
      "cell_type": "markdown",
      "source": [
        "#### Chart - 12"
      ],
      "metadata": {
        "id": "n3dbpmDWp1ck"
      }
    },
    {
      "cell_type": "code",
      "source": [
        "\n",
        "# 12. Plot product group distribution\n",
        "plt.figure(figsize=(10, 6))\n",
        "sns.countplot(data=df, x='Product Group', palette='magma')\n",
        "plt.title('Distribution of Product Groups')\n",
        "plt.xlabel('Product Group')\n",
        "plt.ylabel('Count')\n",
        "plt.xticks(rotation=45)\n",
        "plt.show()\n"
      ],
      "metadata": {
        "id": "bwevp1tKp1ck"
      },
      "execution_count": null,
      "outputs": []
    },
    {
      "cell_type": "markdown",
      "source": [
        "##### 1. Why did you pick the specific chart?"
      ],
      "metadata": {
        "id": "ylSl6qgtp1ck"
      }
    },
    {
      "cell_type": "markdown",
      "source": [
        "I chose a bar chart to visualize the \"Distribution of Product Groups\" data because it's the most suitable for comparing the frequency of different product groups"
      ],
      "metadata": {
        "id": "m2xqNkiQp1ck"
      }
    },
    {
      "cell_type": "markdown",
      "source": [
        "##### 2. What is/are the insight(s) found from the chart?"
      ],
      "metadata": {
        "id": "ZWILFDl5p1ck"
      }
    },
    {
      "cell_type": "markdown",
      "source": [
        "## Insights from the \"Distribution of Product Groups\" Chart\n",
        "\n",
        "**1. Dominance of ARV:**\n",
        "* **Overwhelming Majority:** ARV (Antiretroviral) products significantly outnumber other product groups, indicating their dominance in the dataset.\n",
        "\n",
        "**2. Niche Product Groups:**\n",
        "* **Smaller Counts:** HRDT (HIV Rapid Diagnostic Tests), ACT (Antimalarial Combination Therapies), MRDT (Malaria Rapid Diagnostic Tests), and ANTM (Antimicrobials) have considerably smaller counts, suggesting they are less prevalent or represent specific market segments.\n",
        "\n",
        "**Overall, the chart highlights the dominance of ARV products in the dataset, while the other product groups appear to be niche or less frequently represented.**\n"
      ],
      "metadata": {
        "id": "x-lUsV2mp1ck"
      }
    },
    {
      "cell_type": "markdown",
      "source": [
        "##### 3. Will the gained insights help creating a positive business impact?\n",
        "Are there any insights that lead to negative growth? Justify with specific reason."
      ],
      "metadata": {
        "id": "M7G43BXep1ck"
      }
    },
    {
      "cell_type": "markdown",
      "source": [
        "**Yes, the insights gained from the \"Distribution of Product Groups\" chart can help create a positive business impact.**\n",
        "\n",
        "By understanding the dominance of ARV products and the niche nature of other groups, businesses can:\n",
        "\n",
        "* **Focus on high-demand products:** Prioritizing ARV products can drive sales and increase market share.\n",
        "* **Identify niche opportunities:** Exploring the potential for growth in the smaller product groups can reveal niche market opportunities.\n",
        "* **Optimize product portfolios:** Understanding the distribution of product groups can help businesses balance their product offerings and avoid over-reliance on a single category.\n",
        "\n",
        "**However, it's important to note that some insights might lead to negative growth if not addressed properly:**\n",
        "\n",
        "* **Overemphasis on ARV products:** If a business becomes overly focused on ARV products without considering market changes or emerging trends, it could miss out on opportunities in other product groups.\n",
        "* **Ignoring niche markets:** Neglecting to invest in niche product groups could limit growth potential and reduce market diversity.\n",
        "* **Failing to adapt to market changes:** If the market dynamics shift, and the demand for ARV products declines, businesses that are heavily reliant on this category could face challenges.\n",
        "\n",
        "**Therefore, it's crucial to analyze the insights holistically and implement strategies that balance the need to focus on high-demand products with other business objectives, such as product diversification and innovation.**\n"
      ],
      "metadata": {
        "id": "5wwDJXsLp1cl"
      }
    },
    {
      "cell_type": "markdown",
      "source": [
        "#### Chart - 13"
      ],
      "metadata": {
        "id": "Ag9LCva-p1cl"
      }
    },
    {
      "cell_type": "code",
      "source": [
        "# 13. Insurance Cost (USD) by Product Group\n",
        "plt.figure(figsize=(12,6))\n",
        "df.groupby('Product Group')['Line Item Insurance (USD)'].sum().sort_values(ascending=False).plot(kind='bar', color='magenta')\n",
        "plt.title('Insurance Cost (USD) by Product Group')\n",
        "plt.xlabel('Product Group')\n",
        "plt.ylabel('Total Insurance Cost (USD)')\n",
        "plt.xticks(rotation=90)\n",
        "plt.show()"
      ],
      "metadata": {
        "id": "-U9_c0ZlRk1v"
      },
      "execution_count": null,
      "outputs": []
    },
    {
      "cell_type": "markdown",
      "source": [
        "##### 1. Why did you pick the specific chart?"
      ],
      "metadata": {
        "id": "E6MkPsBcp1cl"
      }
    },
    {
      "cell_type": "markdown",
      "source": [
        "- Graph Type: Bar chart\n",
        "\n",
        "- Reason: Highlights the total insurance cost per product group, allowing an understanding of which product categories incur the most insurance costs."
      ],
      "metadata": {
        "id": "V22bRsFWp1cl"
      }
    },
    {
      "cell_type": "markdown",
      "source": [
        "##### 2. What is/are the insight(s) found from the chart?"
      ],
      "metadata": {
        "id": "2cELzS2fp1cl"
      }
    },
    {
      "cell_type": "markdown",
      "source": [
        "## Insights from the \"Insurance Cost (USD) by Product Group\" Chart\n",
        "\n",
        "**1. Dominance of ARV:**\n",
        "* **Highest Cost:** ARV products account for the majority of insurance costs, indicating their higher value or risk profile.\n",
        "\n",
        "**2. Niche Product Groups:**\n",
        "* **Lower Costs:** HRDT, ACT, ANTM, and MRDT have significantly lower insurance costs, suggesting they might be less expensive or involve lower risks.\n",
        "\n",
        "**Overall, the chart highlights the dominance of ARV products in terms of insurance costs, while the other product groups have relatively lower associated costs.**\n"
      ],
      "metadata": {
        "id": "ozQPc2_Ip1cl"
      }
    },
    {
      "cell_type": "markdown",
      "source": [
        "##### 3. Will the gained insights help creating a positive business impact?\n",
        "Are there any insights that lead to negative growth? Justify with specific reason."
      ],
      "metadata": {
        "id": "3MPXvC8up1cl"
      }
    },
    {
      "cell_type": "markdown",
      "source": [
        "**Yes, the insights gained from the \"Insurance Cost (USD) by Product Group\" chart can help create a positive business impact.**\n",
        "\n",
        "By understanding the dominance of ARV products in terms of insurance costs, businesses can:\n",
        "\n",
        "* **Prioritize risk management:** Focus on risk management strategies for ARV products to mitigate potential financial losses.\n",
        "* **Optimize pricing:** Set appropriate pricing for ARV products to account for the higher insurance costs.\n",
        "* **Identify cost-saving opportunities:** Explore ways to reduce insurance costs for ARV products, such as implementing risk mitigation measures or negotiating with insurers.\n",
        "\n",
        "**However, it's important to note that some insights might lead to negative growth if not addressed properly:**\n",
        "\n",
        "* **Overemphasis on ARV products:** If a business becomes overly focused on ARV products without considering other product groups, it could miss out on opportunities in niche markets.\n",
        "* **Neglecting other product groups:** Failing to address the insurance needs of other product groups could lead to increased costs and potential risks.\n",
        "* **Ignoring market changes:** If the market dynamics shift, and the demand for ARV products declines, businesses that are heavily reliant on this category could face challenges.\n",
        "\n",
        "**Therefore, it's crucial to analyze the insights holistically and implement strategies that balance the need to manage insurance costs for ARV products with other business objectives, such as product diversification and risk mitigation.**\n"
      ],
      "metadata": {
        "id": "GL8l1tdLp1cl"
      }
    },
    {
      "cell_type": "markdown",
      "source": [
        "#### Chart - 14 - Correlation Heatmap"
      ],
      "metadata": {
        "id": "NC_X3p0fY2L0"
      }
    },
    {
      "cell_type": "code",
      "source": [
        "# Correlation Heatmap visualization code\n",
        "# Select numerical columns for correlation analysis\n",
        "numeric_columns = df.select_dtypes(include=[np.number]).columns\n",
        "\n",
        "# Calculate correlation matrix\n",
        "corr_matrix = df[numeric_columns].corr()\n",
        "\n",
        "# Plotting the heatmap\n",
        "plt.figure(figsize=(12,8))\n",
        "sns.heatmap(corr_matrix, annot=True, cmap='coolwarm', fmt='.2f', linewidths=0.5, annot_kws={\"size\": 10})\n",
        "plt.title('Correlation Heatmap', fontsize=16)\n",
        "plt.xticks(rotation=45)\n",
        "plt.yticks(rotation=0)\n",
        "plt.show()\n"
      ],
      "metadata": {
        "id": "xyC9zolEZNRQ"
      },
      "execution_count": null,
      "outputs": []
    },
    {
      "cell_type": "markdown",
      "source": [
        "##### 1. Why did you pick the specific chart?"
      ],
      "metadata": {
        "id": "UV0SzAkaZNRQ"
      }
    },
    {
      "cell_type": "markdown",
      "source": [
        "A correlation heatmap is an excellent way to visualize the relationships between numerical features in your dataset."
      ],
      "metadata": {
        "id": "DVPuT8LYZNRQ"
      }
    },
    {
      "cell_type": "markdown",
      "source": [
        "##### 2. What is/are the insight(s) found from the chart?"
      ],
      "metadata": {
        "id": "YPEH6qLeZNRQ"
      }
    },
    {
      "cell_type": "markdown",
      "source": [
        "## Insights from the Correlation Heatmap\n",
        "\n",
        "**Strong Positive Correlations:**\n",
        "* **Line Item Quantity, Line Item Value, Weight (Kilograms), Freight Cost (USD), Line Item Insurance (USD):** These variables show strong positive correlations, indicating that as one increases, the others tend to increase as well.\n",
        "* **Line Item Quantity, Line Item Value:** These two variables have a very strong positive correlation, suggesting that larger quantities often correspond to higher values.\n",
        "\n",
        "**Strong Negative Correlations:**\n",
        "* **Delivery Time, Delivery Delay:** These variables have a strong negative correlation, indicating that longer delivery times are often associated with larger delivery delays.\n",
        "\n",
        "**Other Notable Correlations:**\n",
        "* **Pack Price, Unit Price:** There's a moderate positive correlation between these two variables, suggesting that higher pack prices often correspond to higher unit prices.\n",
        "\n",
        "**Overall, the heatmap reveals that several variables, particularly those related to order size and value, are closely correlated. Understanding these relationships can help businesses optimize pricing, shipping, and insurance strategies.**\n"
      ],
      "metadata": {
        "id": "bfSqtnDqZNRR"
      }
    },
    {
      "cell_type": "markdown",
      "source": [
        "#### Chart - 15 - Pair Plot"
      ],
      "metadata": {
        "id": "q29F0dvdveiT"
      }
    },
    {
      "cell_type": "code",
      "source": [
        "# 15. pair plot of variables\n",
        "sns.pairplot(df)\n",
        "plt.show()"
      ],
      "metadata": {
        "id": "o58-TEIhveiU"
      },
      "execution_count": null,
      "outputs": []
    },
    {
      "cell_type": "markdown",
      "source": [
        "##### 1. Why did you pick the specific chart?"
      ],
      "metadata": {
        "id": "EXh0U9oCveiU"
      }
    },
    {
      "cell_type": "markdown",
      "source": [
        "A pair plot (also known as a scatterplot matrix) is a powerful tool for visualizing relationships between pairs of variables in a dataset. It helps you understand the distribution of individual features and the relationships between any two variables in the dataset."
      ],
      "metadata": {
        "id": "eMmPjTByveiU"
      }
    },
    {
      "cell_type": "markdown",
      "source": [
        "##### 2. What is/are the insight(s) found from the chart?"
      ],
      "metadata": {
        "id": "22aHeOlLveiV"
      }
    },
    {
      "cell_type": "markdown",
      "source": [
        "## Insights from the Pair Plot\n",
        "\n",
        "**General Observations:**\n",
        "* **Linear Relationships:** Several pairs of variables show linear relationships, suggesting a strong correlation.\n",
        "* **Scattered Patterns:** Other pairs exhibit more scattered patterns, indicating weaker or no correlations.\n",
        "* **Outliers:** Some plots have outliers that might influence the correlation analysis.\n",
        "\n",
        "**Specific Relationships (based on visual inspection):**\n",
        "* **Positive Correlations:**\n",
        "    * Line Item Quantity vs. Line Item Value\n",
        "    * Weight (Kilograms) vs. Freight Cost (USD)\n",
        "    * Weight (Kilograms) vs. Line Item Insurance (USD)\n",
        "    * Delivery Delay vs. Delivery Time\n",
        "* **Negative Correlations:**\n",
        "    * Delivery Time vs. Delivery Delay\n",
        "\n",
        "**Further Analysis:**\n",
        "* **Quantifying Correlations:** To get a more precise understanding of the relationships, numerical correlation coefficients can be calculated.\n",
        "* **Handling Outliers:** If outliers are deemed influential, they can be addressed using appropriate techniques (e.g., removal, transformation).\n",
        "\n",
        "**Overall, the pair plot provides a visual overview of the relationships between different variables in the dataset. It helps identify potential correlations that can be further explored and quantified using statistical methods.**\n"
      ],
      "metadata": {
        "id": "uPQ8RGwHveiV"
      }
    },
    {
      "cell_type": "markdown",
      "source": [
        "## **5. Solution to Business Objective**"
      ],
      "metadata": {
        "id": "JcMwzZxoAimU"
      }
    },
    {
      "cell_type": "markdown",
      "source": [
        "#### What do you suggest the client to achieve Business Objective ?\n"
      ],
      "metadata": {
        "id": "8G2x9gOozGDZ"
      }
    },
    {
      "cell_type": "markdown",
      "source": [
        "###  Solutions to Business Objectives:\n",
        "\n",
        "1. **Cost Optimization**:\n",
        "   - Use freight cost and insurance data to negotiate better vendor rates and optimize shipping routes for high-cost products.\n",
        "\n",
        "2. **Shipment Mode Efficiency**:\n",
        "   - Analyze delivery times by shipment mode to prioritize faster or more cost-effective transportation options.\n",
        "\n",
        "3. **Delivery Time Optimization**:\n",
        "   - Identify vendors or regions with consistent delays and enforce stricter tracking to reduce late deliveries.\n",
        "\n",
        "4. **Product and Vendor Performance**:\n",
        "   - Focus on top-performing vendors and ensure high-demand products are always in stock to avoid delays.\n",
        "\n",
        "5. **Profitability**:\n",
        "   - Adjust pricing strategies based on value-to-weight ratios and implement tiered shipping charges for more profitable shipments.\n",
        "\n",
        "6. **Customer Satisfaction**:\n",
        "   - Improve on-time delivery and provide real-time updates to customers about potential delays.\n",
        "\n",
        "7. **Inventory and Fulfillment**:\n",
        "   - Optimize fulfillment methods based on shipment size and implement better inventory management for high-demand products.\n",
        "\n",
        "8. **Sustainability**:\n",
        "   - Shift to eco-friendly shipment modes and optimize packaging to reduce environmental impact."
      ],
      "metadata": {
        "id": "pASKb0qOza21"
      }
    },
    {
      "cell_type": "markdown",
      "source": [
        "# **Conclusion**"
      ],
      "metadata": {
        "id": "gCX9965dhzqZ"
      }
    },
    {
      "cell_type": "markdown",
      "source": [
        "### Conclusion\n",
        "\n",
        "By analyzing the FedEx Logistics data through targeted visualizations, we identified key opportunities for optimizing cost, improving delivery performance, enhancing customer satisfaction, and increasing overall operational efficiency. The insights highlight areas such as shipment mode selection, vendor performance, product profitability, and delivery accuracy as critical levers for improvement. Implementing solutions like better vendor negotiation, dynamic fulfillment, and smarter pricing strategies will enable FedEx to streamline logistics operations while maintaining high service levels and minimizing costs. This data-driven approach ensures that FedEx can continue to meet customer demands while driving profitability and sustainability."
      ],
      "metadata": {
        "id": "Fjb1IsQkh3yE"
      }
    },
    {
      "cell_type": "markdown",
      "source": [
        "### ***Hurrah! You have successfully completed your EDA Capstone Project !!!***"
      ],
      "metadata": {
        "id": "gIfDvo9L0UH2"
      }
    }
  ]
}